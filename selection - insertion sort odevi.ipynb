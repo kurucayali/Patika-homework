{
 "cells": [
  {
   "cell_type": "code",
   "execution_count": null,
   "id": "bab306e6",
   "metadata": {},
   "outputs": [],
   "source": [
    "[22,27,16,2,18,6]\n",
    "\n",
    "## 1 Yukarı verilen dizinin sort türüne göre aşamalarını yazınız.\n",
    "\n",
    "1.Adım: [22] (Dizinin sadece bir elemanı var, zaten sıralıdır)\n",
    "2.Adım: [22, 27] (27, 22'den büyük olduğu için yer değiştirmez)\n",
    "3.Adım: [16, 22, 27] (16, 22'den küçük olduğu için 22'nin soluna ekleriz)\n",
    "4.Adım: [2, 16, 22, 27] (2, 16'dan küçük olduğu için 16'nın soluna ekleriz)\n",
    "5.Adım: [2, 16, 18, 22, 27] (18, 22'den büyük olduğu için yer değiştiririz)\n",
    "6.Adım: [2, 6, 16, 18, 22, 27] (6, 16'dan küçük olduğu için 16'nın soluna ekleriz)\n",
    "\n",
    "## 2 Big-O gösterimi:  O(n^2)\n",
    "\n",
    "## 3 Worst Case\n",
    "\n",
    "## 4 Selection Sort Aşamaları (İlk 4 Adım):\n",
    "\n",
    "Dizi: [7, 3, 5, 8, 2, 9, 4, 15, 6]\n",
    "\n",
    "Adım: [2, 3, 5, 8, 7, 9, 4, 15, 6] (En küçük elemanı seçip dizinin başına yerleştiririz - 2)\n",
    "Adım: [2, 3, 4, 8, 7, 9, 5, 15, 6] (En küçük elemanı seçip dizinin başına yerleştiririz - 3)\n",
    "Adım: [2, 3, 4, 5, 7, 9, 8, 15, 6] (En küçük elemanı seçip dizinin başına yerleştiririz - 4)\n",
    "Adım: [2, 3, 4, 5, 6, 9, 8, 15, 7] (En küçük elemanı seçip dizinin başına yerleştiririz - 6)\n",
    "Her adımda, dizinin başındaki elemanlar sıralıdır. Bu adımları devam ettirerek diziyi tamamen sıralayabilirsiniz."
   ]
  }
 ],
 "metadata": {
  "kernelspec": {
   "display_name": "Python 3 (ipykernel)",
   "language": "python",
   "name": "python3"
  },
  "language_info": {
   "codemirror_mode": {
    "name": "ipython",
    "version": 3
   },
   "file_extension": ".py",
   "mimetype": "text/x-python",
   "name": "python",
   "nbconvert_exporter": "python",
   "pygments_lexer": "ipython3",
   "version": "3.11.4"
  }
 },
 "nbformat": 4,
 "nbformat_minor": 5
}
