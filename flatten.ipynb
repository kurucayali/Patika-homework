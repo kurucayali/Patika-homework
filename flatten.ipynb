{
 "cells": [
  {
   "cell_type": "markdown",
   "id": "b2f1993a",
   "metadata": {},
   "source": [
    "## flatten"
   ]
  },
  {
   "cell_type": "code",
   "execution_count": 11,
   "id": "cb07c0c7",
   "metadata": {},
   "outputs": [
    {
     "name": "stdout",
     "output_type": "stream",
     "text": [
      "[1, 'a', 'cat', 2, 3, 'dog', 4, 5]\n"
     ]
    }
   ],
   "source": [
    "def duzlestir(liste):\n",
    "    duzlesmis_liste = []\n",
    "    for eleman in liste:\n",
    "        if isinstance(eleman, list):\n",
    "            duzlesmis_liste.extend(duzlestir(eleman))\n",
    "        else:           \n",
    "            duzlesmis_liste.append(eleman)\n",
    "    return duzlesmis_liste\n",
    "\n",
    "\n",
    "liste = [[1, 'a', ['cat'], 2], [[[3]], 'dog'], 4, 5]\n",
    "\n",
    "duzlesmis_liste = duzlestir(liste)\n",
    "\n",
    "print(duzlesmis_liste)"
   ]
  },
  {
   "cell_type": "markdown",
   "id": "ea52cfed",
   "metadata": {},
   "source": [
    "## liste ters çevirme"
   ]
  },
  {
   "cell_type": "code",
   "execution_count": 10,
   "id": "2bb6c7f9",
   "metadata": {},
   "outputs": [
    {
     "name": "stdout",
     "output_type": "stream",
     "text": [
      "[[7, 6, 5], [4, 3], [2, 1]]\n"
     ]
    }
   ],
   "source": [
    "liste= [[1, 2], [3, 4], [5, 6, 7]]\n",
    "ters_cevrilmis_alt_listeler = [alt_liste[::-1] for alt_liste in liste]\n",
    "ters_cevrilmis_liste = ters_cevrilmis_alt_listeler[::-1]\n",
    "print(ters_cevrilmis_liste)"
   ]
  },
  {
   "cell_type": "code",
   "execution_count": null,
   "id": "0e417f1c",
   "metadata": {},
   "outputs": [],
   "source": []
  }
 ],
 "metadata": {
  "kernelspec": {
   "display_name": "Python 3 (ipykernel)",
   "language": "python",
   "name": "python3"
  },
  "language_info": {
   "codemirror_mode": {
    "name": "ipython",
    "version": 3
   },
   "file_extension": ".py",
   "mimetype": "text/x-python",
   "name": "python",
   "nbconvert_exporter": "python",
   "pygments_lexer": "ipython3",
   "version": "3.11.4"
  }
 },
 "nbformat": 4,
 "nbformat_minor": 5
}
