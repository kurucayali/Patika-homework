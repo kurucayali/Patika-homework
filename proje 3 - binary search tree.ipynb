{
 "cells": [
  {
   "cell_type": "code",
   "execution_count": null,
   "id": "1e928a24",
   "metadata": {},
   "outputs": [],
   "source": [
    "Binary Search Tree (BST), bir sıralı ağaç yapısıdır ve her \n",
    "bir düğümün solundaki alt ağaçtaki tüm elemanlar düğümden küçük, \n",
    "sağındaki alt ağaçtaki tüm elemanlar düğümden büyük olacak şekilde düzenlenir. \n",
    "\n",
    "[7, 5, 1, 8, 3, 6, 0, 9, 4, 2]\n",
    "\n",
    "Binary Search Tree oluşturalım:\n",
    "\n",
    "\n",
    "         7\n",
    "       /   \\\n",
    "      5     8\n",
    "     / \\     \\\n",
    "    1   6     9\n",
    "   / \\       /\n",
    "  0   3     4\n",
    "     / \\\n",
    "    2   4\n",
    "\n",
    "Bu ağaçta her bir düğüm, solundaki alt ağaçtaki elemanlardan küçük, \n",
    "sağındaki alt ağaçtaki elemanlardan büyük olarak sıralanmıştır."
   ]
  }
 ],
 "metadata": {
  "kernelspec": {
   "display_name": "Python 3 (ipykernel)",
   "language": "python",
   "name": "python3"
  },
  "language_info": {
   "codemirror_mode": {
    "name": "ipython",
    "version": 3
   },
   "file_extension": ".py",
   "mimetype": "text/x-python",
   "name": "python",
   "nbconvert_exporter": "python",
   "pygments_lexer": "ipython3",
   "version": "3.11.4"
  }
 },
 "nbformat": 4,
 "nbformat_minor": 5
}
