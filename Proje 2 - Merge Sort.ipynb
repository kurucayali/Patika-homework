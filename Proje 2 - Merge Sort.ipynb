{
 "cells": [
  {
   "cell_type": "code",
   "execution_count": null,
   "id": "fb6a385f",
   "metadata": {},
   "outputs": [],
   "source": [
    "##Merge Sort Aşamaları:\n",
    "\n",
    "Dizi: [16, 21, 11, 8, 12, 22]\n",
    "\n",
    "1.Adım: Diziyi ikiye böl (split):\n",
    "Sol: [16, 21, 11], Sağ: [8, 12, 22]\n",
    "\n",
    "2.Adım: Sol ve sağ alt dizileri sırala (recursively):\n",
    "Sol: [11, 16, 21], Sağ: [8, 12, 22]\n",
    "\n",
    "3.Adım: İki sıralı alt diziyi birleştir:\n",
    "Birleştirilmiş Dizi: [8, 11, 12, 16, 21, 22]\n",
    "\n",
    "##Big-O Gösterimi: Merge Sort'un Big-O gösterimi O(n log n)'dir.\n",
    "\n"
   ]
  }
 ],
 "metadata": {
  "kernelspec": {
   "display_name": "Python 3 (ipykernel)",
   "language": "python",
   "name": "python3"
  },
  "language_info": {
   "codemirror_mode": {
    "name": "ipython",
    "version": 3
   },
   "file_extension": ".py",
   "mimetype": "text/x-python",
   "name": "python",
   "nbconvert_exporter": "python",
   "pygments_lexer": "ipython3",
   "version": "3.11.4"
  }
 },
 "nbformat": 4,
 "nbformat_minor": 5
}
